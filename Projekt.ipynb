{
 "cells": [
  {
   "cell_type": "markdown",
   "metadata": {},
   "source": [
    "#ElGamal encryption in Julia"
   ]
  },
  {
   "cell_type": "markdown",
   "metadata": {},
   "source": [
    "###Karolina Szczygieł, Dawid Gajewy"
   ]
  },
  {
   "cell_type": "markdown",
   "metadata": {},
   "source": [
    "##Auxiliary packages"
   ]
  },
  {
   "cell_type": "code",
   "execution_count": null,
   "metadata": {
    "collapsed": false
   },
   "outputs": [],
   "source": [
    "Pkg.add(\"Logging\")"
   ]
  },
  {
   "cell_type": "code",
   "execution_count": null,
   "metadata": {
    "collapsed": false
   },
   "outputs": [],
   "source": [
    "using Logging\n",
    "Logging.configure(level=ERROR)"
   ]
  },
  {
   "cell_type": "markdown",
   "metadata": {},
   "source": [
    "##Packages"
   ]
  },
  {
   "cell_type": "code",
   "execution_count": 19,
   "metadata": {
    "collapsed": false
   },
   "outputs": [
    {
     "name": "stderr",
     "output_type": "stream",
     "text": [
      "INFO: Initializing package repository /home/juser/.julia/v0.4\n",
      "INFO: Cloning METADATA from git://github.com/JuliaLang/METADATA.jl\n",
      "INFO: Cloning Numbers from https://github.com/hwborchers/Numbers.jl.git\n",
      "INFO: Computing changes...\n"
     ]
    }
   ],
   "source": [
    "Pkg.clone(\"https://github.com/hwborchers/Numbers.jl.git\")"
   ]
  },
  {
   "cell_type": "code",
   "execution_count": 13,
   "metadata": {
    "collapsed": false
   },
   "outputs": [],
   "source": [
    "using Numbers"
   ]
  },
  {
   "cell_type": "markdown",
   "metadata": {
    "collapsed": true
   },
   "source": [
    "##Types"
   ]
  },
  {
   "cell_type": "code",
   "execution_count": 6,
   "metadata": {
    "collapsed": false
   },
   "outputs": [],
   "source": [
    "immutable User\n",
    "    name::UTF8String\n",
    "    publicKey::Number # g^a\n",
    "    privateKey::Number # a\n",
    "end"
   ]
  },
  {
   "cell_type": "code",
   "execution_count": 7,
   "metadata": {
    "collapsed": false
   },
   "outputs": [],
   "source": [
    "immutable ElGamalBase\n",
    "    p::Number # Prime number for Zp\n",
    "    g::Number # Cyclic group generator\n",
    "end"
   ]
  },
  {
   "cell_type": "code",
   "execution_count": 8,
   "metadata": {
    "collapsed": false
   },
   "outputs": [],
   "source": [
    "type KeyArray\n",
    "    gk::Number\n",
    "    M::Array{Number,1}\n",
    "end"
   ]
  },
  {
   "cell_type": "markdown",
   "metadata": {
    "collapsed": true
   },
   "source": [
    "##Functions"
   ]
  },
  {
   "cell_type": "markdown",
   "metadata": {},
   "source": [
    "###General"
   ]
  },
  {
   "cell_type": "code",
   "execution_count": 1,
   "metadata": {
    "collapsed": false
   },
   "outputs": [
    {
     "data": {
      "text/plain": [
       "generate_p (generic function with 1 method)"
      ]
     },
     "execution_count": 1,
     "metadata": {},
     "output_type": "execute_result"
    }
   ],
   "source": [
    "function generate_p(minRandPower::Number, maxRandPower::Number)\n",
    "    return nextprime(rand(BigInt(2)^minRandPower:BigInt(2)^maxRandPower)) #1024,2048\n",
    "    info(\"Wezmy ciało Zp dla p = \", nextprime)\n",
    "end"
   ]
  },
  {
   "cell_type": "code",
   "execution_count": 2,
   "metadata": {
    "collapsed": false
   },
   "outputs": [
    {
     "data": {
      "text/plain": [
       "return_ga (generic function with 1 method)"
      ]
     },
     "execution_count": 2,
     "metadata": {},
     "output_type": "execute_result"
    }
   ],
   "source": [
    "function return_ga(g::Number, a::Number, p::Number)\n",
    "    ga =  powermod(g,a,p)\n",
    "    info(\"Generowanie klucza \\nElement g = \", g, \" jest generatorem grupy Zp. \\nOsoba wybiera a = \", a , \" i oblicza \\ng^a (mod p) = \", g ,\"^\", a , \" (mod \", p, \") = \", ga)\n",
    "    info(\"Osoba oglasza publicznie g^a = \", ga, \". Ponadto publicznie znane są również: p = \", p, \" oraz g = \", g)\n",
    "    return ga\n",
    "end"
   ]
  },
  {
   "cell_type": "code",
   "execution_count": 3,
   "metadata": {
    "collapsed": false
   },
   "outputs": [
    {
     "data": {
      "text/plain": [
       "string_to_intarray (generic function with 1 method)"
      ]
     },
     "execution_count": 3,
     "metadata": {},
     "output_type": "execute_result"
    }
   ],
   "source": [
    "function string_to_intarray(message::UTF8String)\n",
    "    A = Int[]\n",
    "    for c in message\n",
    "        push!(A,Int(c))\n",
    "    end\n",
    "    return A\n",
    "end"
   ]
  },
  {
   "cell_type": "code",
   "execution_count": 4,
   "metadata": {
    "collapsed": false
   },
   "outputs": [
    {
     "data": {
      "text/plain": [
       "intarray_to_string (generic function with 1 method)"
      ]
     },
     "execution_count": 4,
     "metadata": {},
     "output_type": "execute_result"
    }
   ],
   "source": [
    "function intarray_to_string(A::Array{Number,1})\n",
    "    RA = Char[]\n",
    "    for a in A\n",
    "        push!(RA,Char(a))\n",
    "    end\n",
    "    return AbstractString(RA)\n",
    "end"
   ]
  },
  {
   "cell_type": "code",
   "execution_count": 9,
   "metadata": {
    "collapsed": false
   },
   "outputs": [
    {
     "data": {
      "text/plain": [
       "create_user (generic function with 1 method)"
      ]
     },
     "execution_count": 9,
     "metadata": {},
     "output_type": "execute_result"
    }
   ],
   "source": [
    "function create_user(base::ElGamalBase, name::AbstractString ,choosenNumber::Number)\n",
    "    if choosenNumber > base.p-1\n",
    "        choosenNumber = mod(choosenNumber,base.p)\n",
    "        warn(\"Your choosen (private) number is higher than ElGamal prime. It will be converted to: \", choosenNumber)\n",
    "    end\n",
    "    return User(convert(UTF8String,name), return_ga(base.g,choosenNumber,base.p), choosenNumber)\n",
    "end"
   ]
  },
  {
   "cell_type": "markdown",
   "metadata": {},
   "source": [
    "###Encryption and decryption"
   ]
  },
  {
   "cell_type": "code",
   "execution_count": 10,
   "metadata": {
    "collapsed": false
   },
   "outputs": [
    {
     "data": {
      "text/plain": [
       "send_message (generic function with 1 method)"
      ]
     },
     "execution_count": 10,
     "metadata": {},
     "output_type": "execute_result"
    }
   ],
   "source": [
    "function send_message(base::ElGamalBase, k::Number, addressee::User, message::AbstractString)\n",
    "    if BigInt(k)>10000\n",
    "        k = mod(k,10000)\n",
    "        warn(\"For best performance, your key cannot be higher than 10 000. It was changed to: \", k)\n",
    "    end\n",
    "    # IA is an array of Integers converted from UTF8 string\n",
    "    IA = string_to_intarray(convert(UTF8String,message))\n",
    "    gk = powermod(BigInt(base.g),BigInt(k),BigInt(base.p))\n",
    "    RA = Number[] #Result array (containt encrypted numbers)\n",
    "    for a in IA\n",
    "        m = powermod(BigInt(a)*(BigInt(addressee.publicKey)^BigInt(k)), BigInt(1), BigInt(base.p))\n",
    "        push!(RA,BigInt(m))\n",
    "    end\n",
    "    info(\"Osoba A chce wyslac do osoby B wiadomosc P = \", message, \". Wybiera losowe k = \", k, \" i oblicza \\ng^k = \", base.g, \"^\", k, \" (mod \", base.p, \") = \", gk, \"\\noraz \\nP * (g^a)^k = \", message, \"*\", addressee.publicKey, \" (mod \", base.p, \") = \", RA)\n",
    "    info(\"Osoba A wysyła \", KeyArray(gk, RA), \" do B\")\n",
    "    return KeyArray(gk, RA)\n",
    "end"
   ]
  },
  {
   "cell_type": "code",
   "execution_count": 11,
   "metadata": {
    "collapsed": false
   },
   "outputs": [
    {
     "data": {
      "text/plain": [
       "read_message (generic function with 1 method)"
      ]
     },
     "execution_count": 11,
     "metadata": {},
     "output_type": "execute_result"
    }
   ],
   "source": [
    "function read_message(base::ElGamalBase, recipient::User, CA::KeyArray)\n",
    "    key = powermod(BigInt(CA.gk),BigInt(base.p)-BigInt(1)-BigInt(recipient.privateKey),BigInt(base.p))\n",
    "    RA = Number[]\n",
    "    for a in CA.M\n",
    "        m = mod(BigInt(key)*BigInt(a),BigInt(base.p))\n",
    "        push!(RA,BigInt(m))\n",
    "    end\n",
    "    info(\"Osoba B otrzymała (\", (CA.gk),\",\", (CA.M), \") \\nOblicza \\ng^-ak = (g^k)^p-1-a = \", CA.gk, \"^\", BigInt(base.p)-BigInt(1)-BigInt(recipient.privateKey), \" (mod \", base.p, \") = \", key, \" \\nUzyskuje wiadomosc \\nP = \", key, \"*\", CA.M, \" (mod \", base.p, \") = \", intarray_to_string(RA))\n",
    "    return intarray_to_string(RA)\n",
    "end"
   ]
  },
  {
   "cell_type": "markdown",
   "metadata": {
    "collapsed": true
   },
   "source": [
    "## Code"
   ]
  },
  {
   "cell_type": "markdown",
   "metadata": {},
   "source": [
    "###Basic settings"
   ]
  },
  {
   "cell_type": "markdown",
   "metadata": {},
   "source": [
    "####Base"
   ]
  },
  {
   "cell_type": "code",
   "execution_count": 14,
   "metadata": {
    "collapsed": false
   },
   "outputs": [
    {
     "data": {
      "text/plain": [
       "ElGamalBase(24077,2)"
      ]
     },
     "execution_count": 14,
     "metadata": {},
     "output_type": "execute_result"
    }
   ],
   "source": [
    "ElGamal = ElGamalBase(generate_p(12,15),2) # creates p(prime number for Zp) and g(cyclic group generator)"
   ]
  },
  {
   "cell_type": "code",
   "execution_count": null,
   "metadata": {
    "collapsed": false
   },
   "outputs": [],
   "source": [
    "ElGamal = ElGamalBase(2357,2) #test"
   ]
  },
  {
   "cell_type": "markdown",
   "metadata": {},
   "source": [
    "####Users"
   ]
  },
  {
   "cell_type": "code",
   "execution_count": 15,
   "metadata": {
    "collapsed": false
   },
   "outputs": [
    {
     "name": "stderr",
     "output_type": "stream",
     "text": [
      "WARNING: Your choosen (private) number is higher than ElGamal prime. It will be converted to: 9830\n"
     ]
    },
    {
     "data": {
      "text/plain": [
       "User(\"Dawid\",19231,9830)"
      ]
     },
     "execution_count": 15,
     "metadata": {},
     "output_type": "execute_result"
    },
    {
     "name": "stderr",
     "output_type": "stream",
     "text": [
      "INFO: Generowanie klucza \n",
      "Element g = 2 jest generatorem grupy Zp. \n",
      "Osoba wybiera a = 9830 i oblicza \n",
      "g^a (mod p) = 2^9830 (mod 24077) = 19231\n",
      "INFO: Osoba oglasza publicznie g^a = 19231. Ponadto publicznie znane są również: p = 24077 oraz g = 2\n"
     ]
    }
   ],
   "source": [
    "userA = create_user(ElGamal,\"Dawid\",172312313123123123112312312351) # creates user A with public and private key"
   ]
  },
  {
   "cell_type": "code",
   "execution_count": null,
   "metadata": {
    "collapsed": false
   },
   "outputs": [],
   "source": [
    "userA = create_user(ElGamal,\"Karolina\",2500)"
   ]
  },
  {
   "cell_type": "markdown",
   "metadata": {},
   "source": [
    "###Encrypt mode"
   ]
  },
  {
   "cell_type": "code",
   "execution_count": 16,
   "metadata": {
    "collapsed": false
   },
   "outputs": [
    {
     "name": "stdout",
     "output_type": "stream",
     "text": [
      "Write your message to encrypt: STDIN> HaśHaś\n",
      "Write your key to encrypt above message (digits only): STDIN> 12312\n"
     ]
    },
    {
     "name": "stderr",
     "output_type": "stream",
     "text": [
      "WARNING: For best performance, your key cannot be higher than 10 000. It was changed to: 2312\n",
      "INFO: Osoba A chce wyslac do osoby B wiadomosc P = HaśHaś. Wybiera losowe k = 2312 i oblicza \n",
      "g^k = 2^2312 (mod 24077) = 17262\n",
      "oraz \n",
      "P * (g^a)^k = HaśHaś*19231 (mod 24077) = Number[11596,16960,22446,11596,16960,22446]\n",
      "INFO: Osoba A wysyła KeyArray(17262,Number[11596,16960,22446,11596,16960,22446]) do B\n"
     ]
    },
    {
     "name": "stdout",
     "output_type": "stream",
     "text": [
      "Your encrypted message is: KeyArray(17262,Number[11596,16960,22446,11596,16960,22446])"
     ]
    }
   ],
   "source": [
    "print(\"Write your message to encrypt: \")\n",
    "message = convert(AbstractString,readline())\n",
    "\n",
    "print(\"Write your key to encrypt above message (digits only): \")\n",
    "key = try \n",
    "    parse(BigInt,readline())\n",
    "    catch\n",
    "        error(\"You have to write digits only!\")\n",
    "    end\n",
    "\n",
    "CRYPTED = send_message(ElGamal, key, userA, message)\n",
    "print(\"Your encrypted message is: \", CRYPTED)\n"
   ]
  },
  {
   "cell_type": "markdown",
   "metadata": {},
   "source": [
    "###Decrypt mode"
   ]
  },
  {
   "cell_type": "code",
   "execution_count": 18,
   "metadata": {
    "collapsed": false
   },
   "outputs": [
    {
     "name": "stderr",
     "output_type": "stream",
     "text": [
      "INFO: Osoba B otrzymała (17262,Number[11596,16960,22446,11596,16960,22446]) \n",
      "Oblicza \n",
      "g^-ak = (g^k)^p-1-a = 17262^14246 (mod 24077) = 8488 \n",
      "Uzyskuje wiadomosc \n",
      "P = 8488*Number[11596,16960,22446,11596,16960,22446] (mod 24077) = HaśHaś\n"
     ]
    },
    {
     "data": {
      "text/plain": [
       "\"HaśHaś\""
      ]
     },
     "execution_count": 18,
     "metadata": {},
     "output_type": "execute_result"
    }
   ],
   "source": [
    "DECRYPTED = read_message(ElGamal,userA,CRYPTED)"
   ]
  },
  {
   "cell_type": "code",
   "execution_count": null,
   "metadata": {
    "collapsed": true
   },
   "outputs": [],
   "source": []
  }
 ],
 "metadata": {
  "kernelspec": {
   "display_name": "Julia 0.4.2",
   "language": "julia",
   "name": "julia-0.4"
  },
  "language_info": {
   "file_extension": ".jl",
   "mimetype": "application/julia",
   "name": "julia",
   "version": "0.4.2"
  }
 },
 "nbformat": 4,
 "nbformat_minor": 0
}
